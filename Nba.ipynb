{
 "cells": [
  {
   "cell_type": "code",
   "execution_count": 71,
   "metadata": {},
   "outputs": [],
   "source": [
    "from basketball_reference_scraper.teams import *\n",
    "from basketball_reference_scraper.players import *\n",
    "from basketball_reference_scraper.seasons import *\n",
    "import numpy as np\n",
    "import pandas as pd"
   ]
  },
  {
   "cell_type": "code",
   "execution_count": 36,
   "metadata": {},
   "outputs": [
    {
     "name": "stdout",
     "output_type": "stream",
     "text": [
      "You searched for \"Kristaps Porzingis\"\n",
      "1 result found.\n",
      "Kristaps Porzingis\n",
      "Results for Kristaps Porzingis:\n",
      "\n"
     ]
    }
   ],
   "source": [
    "luka = get_stats(\"Kristaps Porzingis\", stat_type= \"PER_GAME\",playoffs=True)"
   ]
  },
  {
   "cell_type": "code",
   "execution_count": 52,
   "metadata": {},
   "outputs": [
    {
     "data": {
      "text/html": [
       "<div>\n",
       "<style scoped>\n",
       "    .dataframe tbody tr th:only-of-type {\n",
       "        vertical-align: middle;\n",
       "    }\n",
       "\n",
       "    .dataframe tbody tr th {\n",
       "        vertical-align: top;\n",
       "    }\n",
       "\n",
       "    .dataframe thead th {\n",
       "        text-align: right;\n",
       "    }\n",
       "</style>\n",
       "<table border=\"1\" class=\"dataframe\">\n",
       "  <thead>\n",
       "    <tr style=\"text-align: right;\">\n",
       "      <th></th>\n",
       "      <th>SEASON</th>\n",
       "      <th>AGE</th>\n",
       "      <th>TEAM</th>\n",
       "      <th>LEAGUE</th>\n",
       "      <th>POS</th>\n",
       "      <th>G</th>\n",
       "      <th>GS</th>\n",
       "      <th>MP</th>\n",
       "      <th>FG</th>\n",
       "      <th>FGA</th>\n",
       "      <th>...</th>\n",
       "      <th>FT%</th>\n",
       "      <th>ORB</th>\n",
       "      <th>DRB</th>\n",
       "      <th>TRB</th>\n",
       "      <th>AST</th>\n",
       "      <th>STL</th>\n",
       "      <th>BLK</th>\n",
       "      <th>TOV</th>\n",
       "      <th>PF</th>\n",
       "      <th>PTS</th>\n",
       "    </tr>\n",
       "  </thead>\n",
       "  <tbody>\n",
       "    <tr>\n",
       "      <th>0</th>\n",
       "      <td>2019-20</td>\n",
       "      <td>24.0</td>\n",
       "      <td>DAL</td>\n",
       "      <td>NBA</td>\n",
       "      <td>C</td>\n",
       "      <td>3.0</td>\n",
       "      <td>3.0</td>\n",
       "      <td>31.3</td>\n",
       "      <td>7.0</td>\n",
       "      <td>13.3</td>\n",
       "      <td>...</td>\n",
       "      <td>0.87</td>\n",
       "      <td>1.0</td>\n",
       "      <td>7.7</td>\n",
       "      <td>8.7</td>\n",
       "      <td>0.7</td>\n",
       "      <td>0.0</td>\n",
       "      <td>1.0</td>\n",
       "      <td>1.0</td>\n",
       "      <td>3.0</td>\n",
       "      <td>23.7</td>\n",
       "    </tr>\n",
       "  </tbody>\n",
       "</table>\n",
       "<p>1 rows × 30 columns</p>\n",
       "</div>"
      ],
      "text/plain": [
       "    SEASON   AGE TEAM LEAGUE POS    G   GS    MP   FG   FGA  ...   FT%  ORB  \\\n",
       "0  2019-20  24.0  DAL    NBA   C  3.0  3.0  31.3  7.0  13.3  ...  0.87  1.0   \n",
       "\n",
       "   DRB  TRB  AST  STL  BLK  TOV   PF   PTS  \n",
       "0  7.7  8.7  0.7  0.0  1.0  1.0  3.0  23.7  \n",
       "\n",
       "[1 rows x 30 columns]"
      ]
     },
     "execution_count": 52,
     "metadata": {},
     "output_type": "execute_result"
    }
   ],
   "source": [
    "luka"
   ]
  },
  {
   "cell_type": "code",
   "execution_count": 67,
   "metadata": {},
   "outputs": [
    {
     "data": {
      "text/html": [
       "<div>\n",
       "<style scoped>\n",
       "    .dataframe tbody tr th:only-of-type {\n",
       "        vertical-align: middle;\n",
       "    }\n",
       "\n",
       "    .dataframe tbody tr th {\n",
       "        vertical-align: top;\n",
       "    }\n",
       "\n",
       "    .dataframe thead th {\n",
       "        text-align: right;\n",
       "    }\n",
       "</style>\n",
       "<table border=\"1\" class=\"dataframe\">\n",
       "  <thead>\n",
       "    <tr style=\"text-align: right;\">\n",
       "      <th></th>\n",
       "      <th>SEASON</th>\n",
       "      <th>AGE</th>\n",
       "      <th>TEAM</th>\n",
       "      <th>LEAGUE</th>\n",
       "      <th>POS</th>\n",
       "      <th>G</th>\n",
       "      <th>GS</th>\n",
       "      <th>MP</th>\n",
       "      <th>FG</th>\n",
       "      <th>FGA</th>\n",
       "      <th>...</th>\n",
       "      <th>FT%</th>\n",
       "      <th>ORB</th>\n",
       "      <th>DRB</th>\n",
       "      <th>TRB</th>\n",
       "      <th>AST</th>\n",
       "      <th>STL</th>\n",
       "      <th>BLK</th>\n",
       "      <th>TOV</th>\n",
       "      <th>PF</th>\n",
       "      <th>PTS</th>\n",
       "    </tr>\n",
       "  </thead>\n",
       "  <tbody>\n",
       "    <tr>\n",
       "      <th>0</th>\n",
       "      <td>2019-20</td>\n",
       "      <td>24.0</td>\n",
       "      <td>DAL</td>\n",
       "      <td>NBA</td>\n",
       "      <td>C</td>\n",
       "      <td>3.0</td>\n",
       "      <td>3.0</td>\n",
       "      <td>31.3</td>\n",
       "      <td>7.0</td>\n",
       "      <td>13.3</td>\n",
       "      <td>...</td>\n",
       "      <td>0.87</td>\n",
       "      <td>1.0</td>\n",
       "      <td>7.7</td>\n",
       "      <td>8.7</td>\n",
       "      <td>0.7</td>\n",
       "      <td>0.0</td>\n",
       "      <td>1.0</td>\n",
       "      <td>1.0</td>\n",
       "      <td>3.0</td>\n",
       "      <td>23.7</td>\n",
       "    </tr>\n",
       "  </tbody>\n",
       "</table>\n",
       "<p>1 rows × 30 columns</p>\n",
       "</div>"
      ],
      "text/plain": [
       "    SEASON   AGE TEAM LEAGUE POS    G   GS    MP   FG   FGA  ...   FT%  ORB  \\\n",
       "0  2019-20  24.0  DAL    NBA   C  3.0  3.0  31.3  7.0  13.3  ...  0.87  1.0   \n",
       "\n",
       "   DRB  TRB  AST  STL  BLK  TOV   PF   PTS  \n",
       "0  7.7  8.7  0.7  0.0  1.0  1.0  3.0  23.7  \n",
       "\n",
       "[1 rows x 30 columns]"
      ]
     },
     "execution_count": 67,
     "metadata": {},
     "output_type": "execute_result"
    }
   ],
   "source": [
    "luka[luka.SEASON == \"2019-20\"]"
   ]
  },
  {
   "cell_type": "code",
   "execution_count": 68,
   "metadata": {},
   "outputs": [],
   "source": [
    "luka.insert(0,\"Name\",\"Kristaps Porzingis\")"
   ]
  },
  {
   "cell_type": "code",
   "execution_count": 69,
   "metadata": {},
   "outputs": [
    {
     "data": {
      "text/html": [
       "<div>\n",
       "<style scoped>\n",
       "    .dataframe tbody tr th:only-of-type {\n",
       "        vertical-align: middle;\n",
       "    }\n",
       "\n",
       "    .dataframe tbody tr th {\n",
       "        vertical-align: top;\n",
       "    }\n",
       "\n",
       "    .dataframe thead th {\n",
       "        text-align: right;\n",
       "    }\n",
       "</style>\n",
       "<table border=\"1\" class=\"dataframe\">\n",
       "  <thead>\n",
       "    <tr style=\"text-align: right;\">\n",
       "      <th></th>\n",
       "      <th>Name</th>\n",
       "      <th>SEASON</th>\n",
       "      <th>AGE</th>\n",
       "      <th>TEAM</th>\n",
       "      <th>LEAGUE</th>\n",
       "      <th>POS</th>\n",
       "      <th>G</th>\n",
       "      <th>GS</th>\n",
       "      <th>MP</th>\n",
       "      <th>FG</th>\n",
       "      <th>...</th>\n",
       "      <th>FT%</th>\n",
       "      <th>ORB</th>\n",
       "      <th>DRB</th>\n",
       "      <th>TRB</th>\n",
       "      <th>AST</th>\n",
       "      <th>STL</th>\n",
       "      <th>BLK</th>\n",
       "      <th>TOV</th>\n",
       "      <th>PF</th>\n",
       "      <th>PTS</th>\n",
       "    </tr>\n",
       "  </thead>\n",
       "  <tbody>\n",
       "    <tr>\n",
       "      <th>0</th>\n",
       "      <td>Kristaps Porzingis</td>\n",
       "      <td>2019-20</td>\n",
       "      <td>24.0</td>\n",
       "      <td>DAL</td>\n",
       "      <td>NBA</td>\n",
       "      <td>C</td>\n",
       "      <td>3.0</td>\n",
       "      <td>3.0</td>\n",
       "      <td>31.3</td>\n",
       "      <td>7.0</td>\n",
       "      <td>...</td>\n",
       "      <td>0.87</td>\n",
       "      <td>1.0</td>\n",
       "      <td>7.7</td>\n",
       "      <td>8.7</td>\n",
       "      <td>0.7</td>\n",
       "      <td>0.0</td>\n",
       "      <td>1.0</td>\n",
       "      <td>1.0</td>\n",
       "      <td>3.0</td>\n",
       "      <td>23.7</td>\n",
       "    </tr>\n",
       "  </tbody>\n",
       "</table>\n",
       "<p>1 rows × 31 columns</p>\n",
       "</div>"
      ],
      "text/plain": [
       "                 Name   SEASON   AGE TEAM LEAGUE POS    G   GS    MP   FG  \\\n",
       "0  Kristaps Porzingis  2019-20  24.0  DAL    NBA   C  3.0  3.0  31.3  7.0   \n",
       "\n",
       "   ...   FT%  ORB  DRB  TRB  AST  STL  BLK  TOV   PF   PTS  \n",
       "0  ...  0.87  1.0  7.7  8.7  0.7  0.0  1.0  1.0  3.0  23.7  \n",
       "\n",
       "[1 rows x 31 columns]"
      ]
     },
     "execution_count": 69,
     "metadata": {},
     "output_type": "execute_result"
    }
   ],
   "source": [
    "luka"
   ]
  },
  {
   "cell_type": "code",
   "execution_count": 72,
   "metadata": {},
   "outputs": [
    {
     "data": {
      "text/plain": [
       "{'EASTERN_CONF':                    TEAM   W   L   W/L%    GB  PW  PL   PS/G   PA/G\n",
       " 0    Philadelphia 76ers  25  12  0.676     —  24  14  112.0  108.1\n",
       " 1         Brooklyn Nets  25  13  0.658   0.5  25  13  121.1  115.9\n",
       " 2       Milwaukee Bucks  23  14  0.622   2.0  26  11  119.2  112.2\n",
       " 3        Boston Celtics  19  18  0.514   6.0  19  18  111.6  111.1\n",
       " 4            Miami Heat  19  18  0.514   6.0  17  21  104.1  105.4\n",
       " 5       New York Knicks  19  19  0.500   6.5  18  20  104.8  105.2\n",
       " 6     Charlotte Hornets  18  18  0.500   6.5  18  18  112.5  112.9\n",
       " 7         Atlanta Hawks  17  20  0.459   8.0  19  18  112.8  112.4\n",
       " 8       Toronto Raptors  17  20  0.459   8.0  20  17  113.2  111.8\n",
       " 9        Indiana Pacers  16  19  0.457   8.0  18  18  109.6  109.4\n",
       " 10        Chicago Bulls  16  19  0.457   8.0  17  19  111.5  112.3\n",
       " 11   Washington Wizards  14  21  0.400  10.0  13  23  111.5  116.1\n",
       " 12  Cleveland Cavaliers  14  22  0.389  10.5  10  27  101.8  109.0\n",
       " 13        Orlando Magic  13  24  0.351  12.0  11  27  102.8  109.2\n",
       " 14      Detroit Pistons  10  27  0.270  15.0  14  23  107.8  111.7,\n",
       " 'WESTERN_CONF':                       TEAM   W   L   W/L%    GB  PW  PL   PS/G   PA/G\n",
       " 0                Utah Jazz  27   9  0.750     —  28   9  113.5  104.9\n",
       " 1             Phoenix Suns  25  11  0.694   2.0  25  11  113.9  107.5\n",
       " 2       Los Angeles Lakers  24  13  0.649   3.5  25  13  108.4  103.5\n",
       " 3     Los Angeles Clippers  25  14  0.641   3.5  26  13  115.2  109.3\n",
       " 4           Denver Nuggets  21  15  0.583   6.0  24  13  112.7  107.6\n",
       " 5   Portland Trail Blazers  21  15  0.583   6.0  17  19  114.7  115.3\n",
       " 6        San Antonio Spurs  18  15  0.545   7.5  17  17  107.5  107.8\n",
       " 7         Dallas Mavericks  19  17  0.528   8.0  18  18  111.8  112.2\n",
       " 8        Memphis Grizzlies  17  16  0.515   8.5  18  16  108.8  107.6\n",
       " 9    Golden State Warriors  19  19  0.500   9.0  19  19  113.1  113.3\n",
       " 10   Oklahoma City Thunder  16  21  0.432  11.5  13  24  106.2  111.3\n",
       " 11    New Orleans Pelicans  15  22  0.405  12.5  18  20  112.2  113.3\n",
       " 12        Sacramento Kings  15  22  0.405  12.5  13  24  115.0  119.9\n",
       " 13         Houston Rockets  11  24  0.314  15.5  12  24  104.5  110.0\n",
       " 14  Minnesota Timberwolves   8  29  0.216  19.5  10  27  108.6  116.7}"
      ]
     },
     "execution_count": 72,
     "metadata": {},
     "output_type": "execute_result"
    }
   ],
   "source": [
    "get_standings()"
   ]
  },
  {
   "cell_type": "code",
   "execution_count": null,
   "metadata": {},
   "outputs": [],
   "source": []
  }
 ],
 "metadata": {
  "kernelspec": {
   "display_name": "Python 3",
   "language": "python",
   "name": "python3"
  },
  "language_info": {
   "codemirror_mode": {
    "name": "ipython",
    "version": 3
   },
   "file_extension": ".py",
   "mimetype": "text/x-python",
   "name": "python",
   "nbconvert_exporter": "python",
   "pygments_lexer": "ipython3",
   "version": "3.8.3"
  }
 },
 "nbformat": 4,
 "nbformat_minor": 4
}
