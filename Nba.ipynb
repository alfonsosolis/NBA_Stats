{
 "cells": [
  {
   "cell_type": "code",
   "execution_count": 1,
   "metadata": {},
   "outputs": [],
   "source": [
    "from basketball_reference_scraper.teams import *\n",
    "from basketball_reference_scraper.players import *\n",
    "from basketball_reference_scraper.seasons import *\n",
    "import numpy as np\n",
    "import pandas as pd"
   ]
  },
  {
   "cell_type": "code",
   "execution_count": 2,
   "metadata": {},
   "outputs": [
    {
     "output_type": "stream",
     "name": "stdout",
     "text": [
      "You searched for \"Luka Doncic\"\n1 result found.\nLuka Doncic\nResults for Luka Doncic:\n\n"
     ]
    }
   ],
   "source": [
    "luka = get_stats(\"Luka Doncic\", stat_type= \"PER_GAME\",playoffs=True)"
   ]
  },
  {
   "cell_type": "code",
   "execution_count": 10,
   "metadata": {},
   "outputs": [
    {
     "output_type": "execute_result",
     "data": {
      "text/plain": [
       "          Name   SEASON   AGE TEAM LEAGUE POS  G  GS    MP    FG  ...    FT%  \\\n",
       "0  Luka Doncic  2019-20  20.0  DAL    NBA  PG  6   6  35.8  10.7  ...  0.656   \n",
       "\n",
       "   ORB  DRB  TRB  AST  STL  BLK  TOV   PF   PTS  \n",
       "0  0.7  9.2  9.8  8.7  1.2  0.5  5.2  2.8  31.0  \n",
       "\n",
       "[1 rows x 31 columns]"
      ],
      "text/html": "<div>\n<style scoped>\n    .dataframe tbody tr th:only-of-type {\n        vertical-align: middle;\n    }\n\n    .dataframe tbody tr th {\n        vertical-align: top;\n    }\n\n    .dataframe thead th {\n        text-align: right;\n    }\n</style>\n<table border=\"1\" class=\"dataframe\">\n  <thead>\n    <tr style=\"text-align: right;\">\n      <th></th>\n      <th>Name</th>\n      <th>SEASON</th>\n      <th>AGE</th>\n      <th>TEAM</th>\n      <th>LEAGUE</th>\n      <th>POS</th>\n      <th>G</th>\n      <th>GS</th>\n      <th>MP</th>\n      <th>FG</th>\n      <th>...</th>\n      <th>FT%</th>\n      <th>ORB</th>\n      <th>DRB</th>\n      <th>TRB</th>\n      <th>AST</th>\n      <th>STL</th>\n      <th>BLK</th>\n      <th>TOV</th>\n      <th>PF</th>\n      <th>PTS</th>\n    </tr>\n  </thead>\n  <tbody>\n    <tr>\n      <th>0</th>\n      <td>Luka Doncic</td>\n      <td>2019-20</td>\n      <td>20.0</td>\n      <td>DAL</td>\n      <td>NBA</td>\n      <td>PG</td>\n      <td>6</td>\n      <td>6</td>\n      <td>35.8</td>\n      <td>10.7</td>\n      <td>...</td>\n      <td>0.656</td>\n      <td>0.7</td>\n      <td>9.2</td>\n      <td>9.8</td>\n      <td>8.7</td>\n      <td>1.2</td>\n      <td>0.5</td>\n      <td>5.2</td>\n      <td>2.8</td>\n      <td>31.0</td>\n    </tr>\n  </tbody>\n</table>\n<p>1 rows × 31 columns</p>\n</div>"
     },
     "metadata": {},
     "execution_count": 10
    }
   ],
   "source": [
    "luka"
   ]
  },
  {
   "cell_type": "code",
   "execution_count": 11,
   "metadata": {},
   "outputs": [
    {
     "output_type": "execute_result",
     "data": {
      "text/plain": [
       "          Name   SEASON   AGE TEAM LEAGUE POS  G  GS    MP    FG  ...    FT%  \\\n",
       "0  Luka Doncic  2019-20  20.0  DAL    NBA  PG  6   6  35.8  10.7  ...  0.656   \n",
       "\n",
       "   ORB  DRB  TRB  AST  STL  BLK  TOV   PF   PTS  \n",
       "0  0.7  9.2  9.8  8.7  1.2  0.5  5.2  2.8  31.0  \n",
       "\n",
       "[1 rows x 31 columns]"
      ],
      "text/html": "<div>\n<style scoped>\n    .dataframe tbody tr th:only-of-type {\n        vertical-align: middle;\n    }\n\n    .dataframe tbody tr th {\n        vertical-align: top;\n    }\n\n    .dataframe thead th {\n        text-align: right;\n    }\n</style>\n<table border=\"1\" class=\"dataframe\">\n  <thead>\n    <tr style=\"text-align: right;\">\n      <th></th>\n      <th>Name</th>\n      <th>SEASON</th>\n      <th>AGE</th>\n      <th>TEAM</th>\n      <th>LEAGUE</th>\n      <th>POS</th>\n      <th>G</th>\n      <th>GS</th>\n      <th>MP</th>\n      <th>FG</th>\n      <th>...</th>\n      <th>FT%</th>\n      <th>ORB</th>\n      <th>DRB</th>\n      <th>TRB</th>\n      <th>AST</th>\n      <th>STL</th>\n      <th>BLK</th>\n      <th>TOV</th>\n      <th>PF</th>\n      <th>PTS</th>\n    </tr>\n  </thead>\n  <tbody>\n    <tr>\n      <th>0</th>\n      <td>Luka Doncic</td>\n      <td>2019-20</td>\n      <td>20.0</td>\n      <td>DAL</td>\n      <td>NBA</td>\n      <td>PG</td>\n      <td>6</td>\n      <td>6</td>\n      <td>35.8</td>\n      <td>10.7</td>\n      <td>...</td>\n      <td>0.656</td>\n      <td>0.7</td>\n      <td>9.2</td>\n      <td>9.8</td>\n      <td>8.7</td>\n      <td>1.2</td>\n      <td>0.5</td>\n      <td>5.2</td>\n      <td>2.8</td>\n      <td>31.0</td>\n    </tr>\n  </tbody>\n</table>\n<p>1 rows × 31 columns</p>\n</div>"
     },
     "metadata": {},
     "execution_count": 11
    }
   ],
   "source": [
    "luka[luka.SEASON == \"2019-20\"]"
   ]
  },
  {
   "cell_type": "code",
   "execution_count": 12,
   "metadata": {},
   "outputs": [
    {
     "output_type": "execute_result",
     "data": {
      "text/plain": [
       "          Name   SEASON   AGE TEAM LEAGUE POS  G  GS    MP    FG  ...    FT%  \\\n",
       "0  Luka Doncic  2019-20  20.0  DAL    NBA  PG  6   6  35.8  10.7  ...  0.656   \n",
       "\n",
       "   ORB  DRB  TRB  AST  STL  BLK  TOV   PF   PTS  \n",
       "0  0.7  9.2  9.8  8.7  1.2  0.5  5.2  2.8  31.0  \n",
       "\n",
       "[1 rows x 31 columns]"
      ],
      "text/html": "<div>\n<style scoped>\n    .dataframe tbody tr th:only-of-type {\n        vertical-align: middle;\n    }\n\n    .dataframe tbody tr th {\n        vertical-align: top;\n    }\n\n    .dataframe thead th {\n        text-align: right;\n    }\n</style>\n<table border=\"1\" class=\"dataframe\">\n  <thead>\n    <tr style=\"text-align: right;\">\n      <th></th>\n      <th>Name</th>\n      <th>SEASON</th>\n      <th>AGE</th>\n      <th>TEAM</th>\n      <th>LEAGUE</th>\n      <th>POS</th>\n      <th>G</th>\n      <th>GS</th>\n      <th>MP</th>\n      <th>FG</th>\n      <th>...</th>\n      <th>FT%</th>\n      <th>ORB</th>\n      <th>DRB</th>\n      <th>TRB</th>\n      <th>AST</th>\n      <th>STL</th>\n      <th>BLK</th>\n      <th>TOV</th>\n      <th>PF</th>\n      <th>PTS</th>\n    </tr>\n  </thead>\n  <tbody>\n    <tr>\n      <th>0</th>\n      <td>Luka Doncic</td>\n      <td>2019-20</td>\n      <td>20.0</td>\n      <td>DAL</td>\n      <td>NBA</td>\n      <td>PG</td>\n      <td>6</td>\n      <td>6</td>\n      <td>35.8</td>\n      <td>10.7</td>\n      <td>...</td>\n      <td>0.656</td>\n      <td>0.7</td>\n      <td>9.2</td>\n      <td>9.8</td>\n      <td>8.7</td>\n      <td>1.2</td>\n      <td>0.5</td>\n      <td>5.2</td>\n      <td>2.8</td>\n      <td>31.0</td>\n    </tr>\n  </tbody>\n</table>\n<p>1 rows × 31 columns</p>\n</div>"
     },
     "metadata": {},
     "execution_count": 12
    }
   ],
   "source": [
    "luka"
   ]
  },
  {
   "cell_type": "code",
   "execution_count": 13,
   "metadata": {},
   "outputs": [
    {
     "output_type": "execute_result",
     "data": {
      "text/plain": [
       "{'EASTERN_CONF':                    TEAM   W   L   W/L%    GB  PW  PL   PS/G   PA/G\n",
       " 0   Philadelphia 76ers*  49  23  0.681     —  48  24  113.6  108.1\n",
       " 1        Brooklyn Nets*  48  24  0.667   1.0  46  26  118.6  114.1\n",
       " 2      Milwaukee Bucks*  46  26  0.639   3.0  48  24  120.1  114.2\n",
       " 3        Atlanta Hawks*  41  31  0.569   8.0  41  31  113.7  111.4\n",
       " 4      New York Knicks*  41  31  0.569   8.0  41  31  107.0  104.7\n",
       " 5           Miami Heat*  40  32  0.556   9.0  36  36  108.1  108.0\n",
       " 6       Boston Celtics*  36  36  0.500  13.0  39  33  112.6  111.2\n",
       " 7   Washington Wizards*  34  38  0.472  15.0  32  40  116.6  118.5\n",
       " 8        Indiana Pacers  34  38  0.472  15.0  36  36  115.3  115.3\n",
       " 9     Charlotte Hornets  33  39  0.458  16.0  32  40  109.5  111.4\n",
       " 10        Chicago Bulls  31  41  0.431  18.0  34  38  110.7  111.6\n",
       " 11      Toronto Raptors  27  45  0.375  22.0  35  37  111.3  111.7\n",
       " 12  Cleveland Cavaliers  22  50  0.306  27.0  18  54  103.8  112.3\n",
       " 13        Orlando Magic  21  51  0.292  28.0  17  55  104.0  113.3\n",
       " 14      Detroit Pistons  20  52  0.278  29.0  26  46  106.6  111.1,\n",
       " 'WESTERN_CONF':                        TEAM   W   L   W/L%    GB  PW  PL   PS/G   PA/G\n",
       " 0                Utah Jazz*  52  20  0.722     —  55  17  116.4  107.2\n",
       " 1             Phoenix Suns*  51  21  0.708   1.0  49  23  115.3  109.5\n",
       " 2     Los Angeles Clippers*  47  25  0.653   5.0  49  23  114.0  107.8\n",
       " 3           Denver Nuggets*  47  25  0.653   5.0  47  25  115.1  110.1\n",
       " 4         Dallas Mavericks*  42  30  0.583  10.0  41  31  112.4  110.2\n",
       " 5   Portland Trail Blazers*  42  30  0.583  10.0  40  32  116.1  114.3\n",
       " 6       Los Angeles Lakers*  42  30  0.583  10.0  42  30  109.5  106.8\n",
       " 7     Golden State Warriors  39  33  0.542  13.0  38  34  113.7  112.7\n",
       " 8        Memphis Grizzlies*  38  34  0.528  14.0  38  34  113.3  112.3\n",
       " 9         San Antonio Spurs  33  39  0.458  19.0  32  40  111.1  112.8\n",
       " 10     New Orleans Pelicans  31  41  0.431  21.0  35  37  114.6  114.9\n",
       " 11         Sacramento Kings  31  41  0.431  21.0  28  44  113.7  117.4\n",
       " 12   Minnesota Timberwolves  23  49  0.319  29.0  24  48  112.1  117.7\n",
       " 13    Oklahoma City Thunder  22  50  0.306  30.0  15  57  105.0  115.6\n",
       " 14          Houston Rockets  17  55  0.236  35.0  20  52  108.8  116.7}"
      ]
     },
     "metadata": {},
     "execution_count": 13
    }
   ],
   "source": [
    "get_standings()"
   ]
  },
  {
   "cell_type": "code",
   "execution_count": null,
   "metadata": {},
   "outputs": [],
   "source": []
  }
 ],
 "metadata": {
  "kernelspec": {
   "name": "python385jvsc74a57bd0144a5fc41c87d2190039c404442aba42ec8de441aa027c97294184dd23b63eca",
   "display_name": "Python 3.8.5 64-bit ('base': conda)"
  },
  "language_info": {
   "codemirror_mode": {
    "name": "ipython",
    "version": 3
   },
   "file_extension": ".py",
   "mimetype": "text/x-python",
   "name": "python",
   "nbconvert_exporter": "python",
   "pygments_lexer": "ipython3",
   "version": "3.8.5"
  }
 },
 "nbformat": 4,
 "nbformat_minor": 4
}